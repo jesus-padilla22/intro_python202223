{
  "nbformat": 4,
  "nbformat_minor": 0,
  "metadata": {
    "colab": {
      "provenance": [],
      "authorship_tag": "ABX9TyNyMQKDk80g1K10Gdvgr+KO",
      "include_colab_link": true
    },
    "kernelspec": {
      "name": "python3",
      "display_name": "Python 3"
    },
    "language_info": {
      "name": "python"
    }
  },
  "cells": [
    {
      "cell_type": "markdown",
      "metadata": {
        "id": "view-in-github",
        "colab_type": "text"
      },
      "source": [
        "<a href=\"https://colab.research.google.com/github/jesus-padilla22/intro_python202223/blob/main/introduction.ipynb\" target=\"_parent\"><img src=\"https://colab.research.google.com/assets/colab-badge.svg\" alt=\"Open In Colab\"/></a>"
      ]
    },
    {
      "cell_type": "markdown",
      "source": [
        "# Introducción a python\n",
        "\n",
        "## Curso de programación y algoritmia UPB 202223\n",
        "\n",
        "- Nombre: jesus padilla\n",
        "- ID: 501420\n",
        "- Email: jesus.padillaa@upb.edu.co\n",
        "\n",
        "*Esta es la exprecon de la linea recta*\n",
        "$$y = mx + b$$\n",
        "Donde $x$ es la posición.\n"
      ],
      "metadata": {
        "id": "JGmiPS17Fl9A"
      }
    },
    {
      "cell_type": "code",
      "execution_count": null,
      "metadata": {
        "id": "IOHayug4EKIm"
      },
      "outputs": [],
      "source": [
        ""
      ]
    },
    {
      "cell_type": "code",
      "source": [],
      "metadata": {
        "id": "W-6nCrj8IHIY"
      },
      "execution_count": null,
      "outputs": []
    }
  ]
}