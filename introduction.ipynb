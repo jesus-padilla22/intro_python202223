{
  "nbformat": 4,
  "nbformat_minor": 0,
  "metadata": {
    "colab": {
      "provenance": [],
      "authorship_tag": "ABX9TyO7+e6tK4mig+VwSkJ/NHar",
      "include_colab_link": true
    },
    "kernelspec": {
      "name": "python3",
      "display_name": "Python 3"
    },
    "language_info": {
      "name": "python"
    }
  },
  "cells": [
    {
      "cell_type": "markdown",
      "metadata": {
        "id": "view-in-github",
        "colab_type": "text"
      },
      "source": [
        "<a href=\"https://colab.research.google.com/github/jesus-padilla22/intro_python202223/blob/main/introduction.ipynb\" target=\"_parent\"><img src=\"https://colab.research.google.com/assets/colab-badge.svg\" alt=\"Open In Colab\"/></a>"
      ]
    },
    {
      "cell_type": "markdown",
      "source": [],
      "metadata": {
        "id": "zHvxZspjQgCE"
      }
    },
    {
      "cell_type": "code",
      "source": [
        "# mis primeras linea de codigo en phython\n",
        "name = 'jesus david'\n",
        "print(\"hello,\", name)"
      ],
      "metadata": {
        "id": "W-6nCrj8IHIY",
        "colab": {
          "base_uri": "https://localhost:8080/"
        },
        "outputId": "aded2ab9-4fb4-4a7b-c306-f7cdca8f9c0e"
      },
      "execution_count": 9,
      "outputs": [
        {
          "output_type": "stream",
          "name": "stdout",
          "text": [
            "hello, jesus david\n"
          ]
        }
      ]
    },
    {
      "cell_type": "markdown",
      "source": [],
      "metadata": {
        "id": "pThCO2u0Q6qg"
      }
    },
    {
      "cell_type": "code",
      "execution_count": 10,
      "metadata": {
        "id": "IOHayug4EKIm",
        "colab": {
          "base_uri": "https://localhost:8080/"
        },
        "outputId": "9ea8c8f5-a68e-4179-edcd-97015008e37e"
      },
      "outputs": [
        {
          "output_type": "stream",
          "name": "stdout",
          "text": [
            "mi nombre es,  jesus padilla tengo 18 años, vivo en cerete, cordoba y me gusta Arroz de coco con guiso\n"
          ]
        },
        {
          "output_type": "execute_result",
          "data": {
            "text/plain": [
              "<function print>"
            ]
          },
          "metadata": {},
          "execution_count": 10
        }
      ],
      "source": [
        "from os import forkpty\n",
        "firstname = 'jesus'\n",
        "lastname = 'padilla'\n",
        "age = 18\n",
        "city = 'cerete, cordoba'\n",
        "food = 'Arroz de coco con guiso'\n",
        "\n",
        "print(\"mi nombre es, \", firstname, lastname, \"tengo\", age,\"años, vivo en\", city, \"y me gusta\", food)\n",
        "print\n",
        "\n",
        "\n"
      ]
    },
    {
      "cell_type": "code",
      "source": [
        "a = 3\n",
        "b = 4.5\n",
        "c = a + b\n",
        "print(type(a))\n",
        "print(type(b))\n",
        "\n",
        "\n"
      ],
      "metadata": {
        "id": "agEXmYQyU3D1",
        "colab": {
          "base_uri": "https://localhost:8080/"
        },
        "outputId": "d0a18848-abea-4200-f4d9-7585d83028ee"
      },
      "execution_count": 11,
      "outputs": [
        {
          "output_type": "stream",
          "name": "stdout",
          "text": [
            "<class 'int'>\n",
            "<class 'float'>\n"
          ]
        }
      ]
    },
    {
      "cell_type": "code",
      "source": [
        "m = 5\n",
        "b = 2\n",
        "x = -3\n",
        "y = m * x + b\n",
        "print(x, \"/---/\" , y)\n",
        "x = -1\n",
        "y = m * x + b\n",
        "print(x, '/---/', y)\n"
      ],
      "metadata": {
        "id": "Bp8thLW9Wuil",
        "colab": {
          "base_uri": "https://localhost:8080/"
        },
        "outputId": "f0b2a2c2-3fc6-4410-e7a4-c42c1df647dd"
      },
      "execution_count": 12,
      "outputs": [
        {
          "output_type": "stream",
          "name": "stdout",
          "text": [
            "-3 /---/ -13\n",
            "-1 /---/ -3\n"
          ]
        }
      ]
    },
    {
      "cell_type": "code",
      "source": [
        "a = 0.1\n",
        "b = -2\n",
        "c = 0.5\n",
        "\n",
        "disc = (b ** 2 - 4 * a * c) ** (1/2)\n",
        "x_p = (-b + disc) / (2 * a)\n",
        "x_n = (-b - disc) / (2 * a)\n"
      ],
      "metadata": {
        "id": "6TQB0J8ah0C3"
      },
      "execution_count": 13,
      "outputs": []
    },
    {
      "cell_type": "code",
      "source": [
        "firstname='jesus'\n",
        "lastname='padilla'\n",
        "fullname=firstname + lastname\n",
        "print(fullname)"
      ],
      "metadata": {
        "colab": {
          "base_uri": "https://localhost:8080/"
        },
        "id": "3sUOB9M3eyfj",
        "outputId": "e180a1ec-1fcc-48d2-dfc2-c3ff33bd3bfb"
      },
      "execution_count": 20,
      "outputs": [
        {
          "output_type": "stream",
          "name": "stdout",
          "text": [
            "jesuspadilla\n"
          ]
        }
      ]
    },
    {
      "cell_type": "code",
      "source": [
        "a = 3\n",
        "b = 5\n",
        "print(a == b)\n",
        "print( a < b)\n",
        "print( a > b)\n",
        "print( (a == b) and (b + 3 > 5) )\n",
        "print( not ( a == b))"
      ],
      "metadata": {
        "colab": {
          "base_uri": "https://localhost:8080/"
        },
        "id": "PyDFhUYYk5or",
        "outputId": "66f24a94-ad3c-4a24-95d7-cb17096311a5"
      },
      "execution_count": 19,
      "outputs": [
        {
          "output_type": "stream",
          "name": "stdout",
          "text": [
            "False\n",
            "True\n",
            "False\n",
            "False\n",
            "True\n"
          ]
        }
      ]
    },
    {
      "cell_type": "code",
      "source": [],
      "metadata": {
        "id": "4TD9IVC9nLjv"
      },
      "execution_count": null,
      "outputs": []
    }
  ]
}