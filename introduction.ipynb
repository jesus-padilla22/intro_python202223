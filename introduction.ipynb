{
  "nbformat": 4,
  "nbformat_minor": 0,
  "metadata": {
    "colab": {
      "provenance": [],
      "toc_visible": true,
      "authorship_tag": "ABX9TyOiZM0bG5ExkdsxNgHKDyL+",
      "include_colab_link": true
    },
    "kernelspec": {
      "name": "python3",
      "display_name": "Python 3"
    },
    "language_info": {
      "name": "python"
    }
  },
  "cells": [
    {
      "cell_type": "markdown",
      "metadata": {
        "id": "view-in-github",
        "colab_type": "text"
      },
      "source": [
        "<a href=\"https://colab.research.google.com/github/jesus-padilla22/intro_python202223/blob/main/introduction.ipynb\" target=\"_parent\"><img src=\"https://colab.research.google.com/assets/colab-badge.svg\" alt=\"Open In Colab\"/></a>"
      ]
    },
    {
      "cell_type": "markdown",
      "source": [],
      "metadata": {
        "id": "zHvxZspjQgCE"
      }
    },
    {
      "cell_type": "code",
      "source": [
        "# mis primeras linea de codigo en phython\n",
        "name = 'jesus david'\n",
        "print(\"hello,\", name)"
      ],
      "metadata": {
        "id": "W-6nCrj8IHIY",
        "colab": {
          "base_uri": "https://localhost:8080/"
        },
        "outputId": "48092a8e-7168-432b-dcd3-0e2352df1874"
      },
      "execution_count": 3,
      "outputs": [
        {
          "output_type": "stream",
          "name": "stdout",
          "text": [
            "hello, jesus david\n"
          ]
        }
      ]
    },
    {
      "cell_type": "markdown",
      "source": [],
      "metadata": {
        "id": "pThCO2u0Q6qg"
      }
    },
    {
      "cell_type": "code",
      "execution_count": 9,
      "metadata": {
        "id": "IOHayug4EKIm",
        "colab": {
          "base_uri": "https://localhost:8080/"
        },
        "outputId": "191fac78-c17f-4489-9c04-0b7426c2d1a7"
      },
      "outputs": [
        {
          "output_type": "stream",
          "name": "stdout",
          "text": [
            "mi nombre es,  jesus padilla tengo 18 años, vivo en cerete, cordoba y me gusta Arroz de coco con guiso\n"
          ]
        },
        {
          "output_type": "execute_result",
          "data": {
            "text/plain": [
              "<function print>"
            ]
          },
          "metadata": {},
          "execution_count": 9
        }
      ],
      "source": [
        "from os import forkpty\n",
        "firstname = 'jesus'\n",
        "lastname = 'padilla'\n",
        "age = 18\n",
        "city = 'cerete, cordoba'\n",
        "food = 'Arroz de coco con guiso'\n",
        "\n",
        "print(\"mi nombre es, \", firstname, lastname, \"tengo\", age,\"años, vivo en\", city, \"y me gusta\", food)\n",
        "print\n",
        "\n",
        "\n"
      ]
    },
    {
      "cell_type": "code",
      "source": [
        "\n"
      ],
      "metadata": {
        "id": "agEXmYQyU3D1"
      },
      "execution_count": 6,
      "outputs": []
    },
    {
      "cell_type": "code",
      "source": [],
      "metadata": {
        "id": "Bp8thLW9Wuil"
      },
      "execution_count": 6,
      "outputs": []
    }
  ]
}